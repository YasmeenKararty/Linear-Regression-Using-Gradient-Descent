{
  "cells": [
    {
      "cell_type": "markdown",
      "metadata": {
        "id": "view-in-github",
        "colab_type": "text"
      },
      "source": [
        "<a href=\"https://colab.research.google.com/github/YasmeenKararty/Linear-Regression-Using-Gradient-Descent/blob/main/GradientDescent.ipynb\" target=\"_parent\"><img src=\"https://colab.research.google.com/assets/colab-badge.svg\" alt=\"Open In Colab\"/></a>"
      ]
    },
    {
      "cell_type": "markdown",
      "metadata": {
        "id": "DwktBEBwbGlD"
      },
      "source": [
        "**Import Libraries Needed**"
      ]
    },
    {
      "cell_type": "code",
      "execution_count": 1,
      "metadata": {
        "id": "GVojjBk8k3Jx"
      },
      "outputs": [],
      "source": [
        "import pandas as pd\n",
        "import numpy as np\n",
        "import matplotlib.pyplot as plt\n",
        "from sklearn.linear_model import LinearRegression\n",
        "from sklearn.preprocessing import LabelEncoder, StandardScaler"
      ]
    },
    {
      "cell_type": "markdown",
      "metadata": {
        "id": "vE3Xh0QibWIx"
      },
      "source": [
        "**Read DataSet**"
      ]
    },
    {
      "cell_type": "code",
      "execution_count": 2,
      "metadata": {
        "id": "i0UD_C53lIFC"
      },
      "outputs": [],
      "source": [
        "data = pd.read_csv('Fish.csv')"
      ]
    },
    {
      "cell_type": "code",
      "execution_count": 3,
      "metadata": {
        "id": "jmehmeDBDTwD"
      },
      "outputs": [],
      "source": [
        "X = data.drop(['Weight'], axis=1)\n",
        "Y = data['Weight'].values.reshape(-1, 1)"
      ]
    },
    {
      "cell_type": "markdown",
      "metadata": {
        "id": "uCqxcYZobdJg"
      },
      "source": [
        "**Label Encoding**"
      ]
    },
    {
      "cell_type": "code",
      "execution_count": 4,
      "metadata": {
        "id": "7ihp-XonlOjw"
      },
      "outputs": [],
      "source": [
        "labelEncoder = LabelEncoder()\n",
        "X['Species'] = labelEncoder.fit_transform(X['Species'])\n",
        "X = X.values"
      ]
    },
    {
      "cell_type": "markdown",
      "metadata": {
        "id": "ozHVa3i2dP3W"
      },
      "source": [
        "**Standardization**"
      ]
    },
    {
      "cell_type": "code",
      "execution_count": 5,
      "metadata": {
        "id": "gUDmKLWn2sP1"
      },
      "outputs": [],
      "source": [
        "X = StandardScaler().fit_transform(X)"
      ]
    },
    {
      "cell_type": "code",
      "execution_count": 6,
      "metadata": {
        "id": "TQmaQFbbbET-"
      },
      "outputs": [],
      "source": [
        "X = np.hstack((np.ones((X.shape[0],1)), X))"
      ]
    },
    {
      "cell_type": "code",
      "execution_count": 19,
      "metadata": {
        "colab": {
          "base_uri": "https://localhost:8080/"
        },
        "id": "sqpSQkpcpGHr",
        "outputId": "c5692d51-76b5-4e0b-b25d-3d3e58c5cc5c"
      },
      "outputs": [
        {
          "output_type": "stream",
          "name": "stdout",
          "text": [
            "XTrain Shape: (159, 7)\n"
          ]
        }
      ],
      "source": [
        "print(\"XTrain Shape:\", X.shape)"
      ]
    },
    {
      "cell_type": "code",
      "execution_count": 21,
      "metadata": {
        "colab": {
          "base_uri": "https://localhost:8080/"
        },
        "id": "8VEB5l47pHoH",
        "outputId": "711f1ebc-299c-474f-9dee-b4a15bbf45ca"
      },
      "outputs": [
        {
          "output_type": "stream",
          "name": "stdout",
          "text": [
            "YTrain Shape: (159, 1)\n"
          ]
        }
      ],
      "source": [
        "print(\"YTrain Shape:\", Y.shape)"
      ]
    },
    {
      "cell_type": "code",
      "execution_count": 20,
      "metadata": {
        "id": "aSNH6h5YOEnn"
      },
      "outputs": [],
      "source": [
        "def calculateHypothesis(X, theta):\n",
        "  return np.dot(X, theta)"
      ]
    },
    {
      "cell_type": "code",
      "execution_count": 10,
      "metadata": {
        "id": "DlxHBXh5Knci"
      },
      "outputs": [],
      "source": [
        "def calculateCost(X, Y, YPredict):\n",
        "  return 1/(2* Y.shape[0]) * np.sum(np.square(np.subtract(YPredict, Y)))"
      ]
    },
    {
      "cell_type": "code",
      "execution_count": 11,
      "metadata": {
        "id": "etE2N2J9K41f"
      },
      "outputs": [],
      "source": [
        "def calculateGradient(X, cost):\n",
        "  return X.T.dot(cost) / X.shape[0]"
      ]
    },
    {
      "cell_type": "code",
      "execution_count": 12,
      "metadata": {
        "id": "9AbLZIQbmI2-"
      },
      "outputs": [],
      "source": [
        "def gradientDescentAlgorithm(X, Y, theta, learningRate, tolerance, maximumIterations, costs):\n",
        "  \n",
        "  currentCost = costs[0]\n",
        "  for iteration in range(1,maximumIterations+1):\n",
        "    \n",
        "    if currentCost < tolerance:\n",
        "      break\n",
        "    else:\n",
        "      YPredict = calculateHypothesis(X, theta)\n",
        "      error = YPredict-Y\n",
        "      gradient = calculateGradient(X, error)\n",
        "      theta = np.subtract(theta, (learningRate * gradient))\n",
        "      currentCost = calculateCost(X,Y,YPredict)\n",
        "    if iteration % 10 == 0:\n",
        "      costs[iteration] = currentCost\n",
        "\n",
        "\n",
        "  return theta"
      ]
    },
    {
      "cell_type": "code",
      "execution_count": 13,
      "metadata": {
        "id": "TXkD4FLAeKDV"
      },
      "outputs": [],
      "source": [
        "theta = np.zeros((X.shape[1],1))\n",
        "learningRate = 0.01\n",
        "tolerance =  0.000001\n",
        "maximumIterations = 400\n",
        "costs = {0:10000}"
      ]
    },
    {
      "cell_type": "code",
      "execution_count": 14,
      "metadata": {
        "colab": {
          "base_uri": "https://localhost:8080/"
        },
        "id": "VKNb-VPVeOMm",
        "outputId": "ae3e1c5e-6cf1-45a7-8b86-098d4842da9b"
      },
      "outputs": [
        {
          "output_type": "stream",
          "name": "stdout",
          "text": [
            "Theta Shape: (7, 1)\n"
          ]
        }
      ],
      "source": [
        "print(\"Theta Shape:\", theta.shape)"
      ]
    },
    {
      "cell_type": "code",
      "execution_count": 15,
      "metadata": {
        "id": "sztEpj8gVPPb"
      },
      "outputs": [],
      "source": [
        "newTheta = gradientDescentAlgorithm(X, Y, theta, learningRate, tolerance, maximumIterations,costs)"
      ]
    },
    {
      "cell_type": "code",
      "execution_count": 24,
      "metadata": {
        "colab": {
          "base_uri": "https://localhost:8080/",
          "height": 334
        },
        "id": "3nM7K9mgYL0z",
        "outputId": "2249cab7-051f-4653-b47c-1e029495bd66"
      },
      "outputs": [
        {
          "output_type": "stream",
          "name": "stdout",
          "text": [
            "Minumum Cost = 7288.6422261711705\n",
            "Maximum Cost = 98550.19958509835\n"
          ]
        },
        {
          "output_type": "execute_result",
          "data": {
            "text/plain": [
              "Text(0, 0.5, 'Cost')"
            ]
          },
          "metadata": {},
          "execution_count": 24
        },
        {
          "output_type": "display_data",
          "data": {
            "text/plain": [
              "<Figure size 432x288 with 1 Axes>"
            ],
            "image/png": "[encoded data removed]"
          },
          "metadata": {
            "needs_background": "light"
          }
        }
      ],
      "source": [
        "Iterations = [i for i in costs.keys()]\n",
        "costsToBePlotted = [i for i in costs.values()]\n",
        "print(\"Minumum Cost =\", min(costsToBePlotted[1:]))\n",
        "print(\"Maximum Cost =\", max(costsToBePlotted[1:]))\n",
        "plt.plot(Iterations[1:], costsToBePlotted[1:])\n",
        "plt.xlabel('No. of iterations')\n",
        "plt.ylabel('Cost')"
      ]
    }
  ],
  "metadata": {
    "colab": {
      "collapsed_sections": [],
      "name": "GradientDescent.ipynb",
      "provenance": [],
      "authorship_tag": "ABX9TyNuRCHG/QqfQDpmLSkFi4m6",
      "include_colab_link": true
    },
    "kernelspec": {
      "display_name": "Python 3",
      "name": "python3"
    },
    "language_info": {
      "name": "python"
    }
  },
  "nbformat": 4,
  "nbformat_minor": 0
}